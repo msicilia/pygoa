{
 "cells": [
  {
   "cell_type": "markdown",
   "metadata": {},
   "source": [
    "# Comparing similarity measures across versions"
   ]
  },
  {
   "cell_type": "markdown",
   "metadata": {},
   "source": [
    "## Information content"
   ]
  },
  {
   "cell_type": "code",
   "execution_count": 22,
   "metadata": {
    "collapsed": false
   },
   "outputs": [
    {
     "data": {
      "text/html": [
       "<div>\n",
       "<table border=\"1\" class=\"dataframe\">\n",
       "  <thead>\n",
       "    <tr style=\"text-align: right;\">\n",
       "      <th></th>\n",
       "      <th>date</th>\n",
       "      <th>term</th>\n",
       "      <th>ic</th>\n",
       "    </tr>\n",
       "  </thead>\n",
       "  <tbody>\n",
       "    <tr>\n",
       "      <th>0</th>\n",
       "      <td>2007-01-01</td>\n",
       "      <td>GO:0000001</td>\n",
       "      <td>6.792704</td>\n",
       "    </tr>\n",
       "    <tr>\n",
       "      <th>1</th>\n",
       "      <td>2007-01-01</td>\n",
       "      <td>GO:0000002</td>\n",
       "      <td>3.279104</td>\n",
       "    </tr>\n",
       "    <tr>\n",
       "      <th>2</th>\n",
       "      <td>2007-01-01</td>\n",
       "      <td>GO:0000003</td>\n",
       "      <td>0.800000</td>\n",
       "    </tr>\n",
       "  </tbody>\n",
       "</table>\n",
       "</div>"
      ],
      "text/plain": [
       "         date        term        ic\n",
       "0  2007-01-01  GO:0000001  6.792704\n",
       "1  2007-01-01  GO:0000002  3.279104\n",
       "2  2007-01-01  GO:0000003  0.800000"
      ]
     },
     "execution_count": 22,
     "metadata": {},
     "output_type": "execute_result"
    }
   ],
   "source": [
    "import pandas as pd\n",
    "ic = pd.read_csv(\"../ic_dump.txt\", parse_dates=True, header=None)\n",
    "ic.columns=[\"date\", \"term\", \"ic\"]\n",
    "ic.head(3)"
   ]
  },
  {
   "cell_type": "code",
   "execution_count": 32,
   "metadata": {
    "collapsed": false
   },
   "outputs": [
    {
     "data": {
      "text/html": [
       "<div>\n",
       "<table border=\"1\" class=\"dataframe\">\n",
       "  <thead>\n",
       "    <tr style=\"text-align: right;\">\n",
       "      <th></th>\n",
       "      <th>date</th>\n",
       "      <th>term</th>\n",
       "      <th>ic</th>\n",
       "    </tr>\n",
       "  </thead>\n",
       "  <tbody>\n",
       "    <tr>\n",
       "      <th>16508</th>\n",
       "      <td>2007-01-01</td>\n",
       "      <td>GO:0043231</td>\n",
       "      <td>4.5952</td>\n",
       "    </tr>\n",
       "    <tr>\n",
       "      <th>39543</th>\n",
       "      <td>2007-02-01</td>\n",
       "      <td>GO:0043231</td>\n",
       "      <td>4.5952</td>\n",
       "    </tr>\n",
       "    <tr>\n",
       "      <th>63196</th>\n",
       "      <td>2007-03-01</td>\n",
       "      <td>GO:0043231</td>\n",
       "      <td>4.5952</td>\n",
       "    </tr>\n",
       "    <tr>\n",
       "      <th>87057</th>\n",
       "      <td>2007-04-01</td>\n",
       "      <td>GO:0043231</td>\n",
       "      <td>4.5952</td>\n",
       "    </tr>\n",
       "    <tr>\n",
       "      <th>111167</th>\n",
       "      <td>2007-05-01</td>\n",
       "      <td>GO:0043231</td>\n",
       "      <td>4.5952</td>\n",
       "    </tr>\n",
       "  </tbody>\n",
       "</table>\n",
       "</div>"
      ],
      "text/plain": [
       "              date        term      ic\n",
       "16508   2007-01-01  GO:0043231  4.5952\n",
       "39543   2007-02-01  GO:0043231  4.5952\n",
       "63196   2007-03-01  GO:0043231  4.5952\n",
       "87057   2007-04-01  GO:0043231  4.5952\n",
       "111167  2007-05-01  GO:0043231  4.5952"
      ]
     },
     "execution_count": 32,
     "metadata": {},
     "output_type": "execute_result"
    }
   ],
   "source": [
    "by_term = ic.groupby(\"term\")\n",
    "by_term.get_group(\"GO:0043231\").head()"
   ]
  },
  {
   "cell_type": "code",
   "execution_count": 34,
   "metadata": {
    "collapsed": false
   },
   "outputs": [],
   "source": [
    "import numpy as np\n",
    "changed = [t for t, g in by_term if np.all(g.ic.values == g.ic.values[0])]"
   ]
  },
  {
   "cell_type": "code",
   "execution_count": 36,
   "metadata": {
    "collapsed": false
   },
   "outputs": [
    {
     "data": {
      "text/plain": [
       "2228"
      ]
     },
     "execution_count": 36,
     "metadata": {},
     "output_type": "execute_result"
    }
   ],
   "source": [
    "len(changed)"
   ]
  },
  {
   "cell_type": "code",
   "execution_count": 37,
   "metadata": {
    "collapsed": false
   },
   "outputs": [
    {
     "data": {
      "text/plain": [
       "30737"
      ]
     },
     "execution_count": 37,
     "metadata": {},
     "output_type": "execute_result"
    }
   ],
   "source": [
    "len(ic.term.unique())"
   ]
  },
  {
   "cell_type": "code",
   "execution_count": null,
   "metadata": {
    "collapsed": true
   },
   "outputs": [],
   "source": []
  }
 ],
 "metadata": {
  "anaconda-cloud": {},
  "kernelspec": {
   "display_name": "Python [Root]",
   "language": "python",
   "name": "Python [Root]"
  },
  "language_info": {
   "codemirror_mode": {
    "name": "ipython",
    "version": 3
   },
   "file_extension": ".py",
   "mimetype": "text/x-python",
   "name": "python",
   "nbconvert_exporter": "python",
   "pygments_lexer": "ipython3",
   "version": "3.5.2"
  }
 },
 "nbformat": 4,
 "nbformat_minor": 0
}
