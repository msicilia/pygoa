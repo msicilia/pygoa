{
 "cells": [
  {
   "cell_type": "code",
   "execution_count": 1,
   "metadata": {
    "collapsed": false
   },
   "outputs": [],
   "source": [
    "import pandas as pd\n",
    "import seaborn as sns"
   ]
  },
  {
   "cell_type": "code",
   "execution_count": 2,
   "metadata": {
    "collapsed": false
   },
   "outputs": [
    {
     "name": "stdout",
     "output_type": "stream",
     "text": [
      "/Users/msicilia/Desktop/dev/pygoa\n"
     ]
    }
   ],
   "source": [
    "%pwd\n",
    "%cd .."
   ]
  },
  {
   "cell_type": "code",
   "execution_count": 3,
   "metadata": {
    "collapsed": false
   },
   "outputs": [
    {
     "data": {
      "text/html": [
       "<div>\n",
       "<table border=\"1\" class=\"dataframe\">\n",
       "  <thead>\n",
       "    <tr style=\"text-align: right;\">\n",
       "      <th></th>\n",
       "      <th>Unnamed: 0</th>\n",
       "      <th>date</th>\n",
       "      <th>nterms</th>\n",
       "      <th>nchildren</th>\n",
       "      <th>nparents</th>\n",
       "      <th>nrelations</th>\n",
       "      <th>nobsolete</th>\n",
       "      <th>nbioprocess</th>\n",
       "      <th>nmolfunction</th>\n",
       "      <th>ncelcomp</th>\n",
       "    </tr>\n",
       "  </thead>\n",
       "  <tbody>\n",
       "    <tr>\n",
       "      <th>0</th>\n",
       "      <td>0</td>\n",
       "      <td>2007-01-01</td>\n",
       "      <td>22929</td>\n",
       "      <td>33988</td>\n",
       "      <td>33988</td>\n",
       "      <td>35269</td>\n",
       "      <td>1012</td>\n",
       "      <td>12904</td>\n",
       "      <td>8049</td>\n",
       "      <td>1976</td>\n",
       "    </tr>\n",
       "    <tr>\n",
       "      <th>1</th>\n",
       "      <td>1</td>\n",
       "      <td>2007-02-01</td>\n",
       "      <td>23533</td>\n",
       "      <td>36092</td>\n",
       "      <td>36092</td>\n",
       "      <td>37195</td>\n",
       "      <td>987</td>\n",
       "      <td>13497</td>\n",
       "      <td>8060</td>\n",
       "      <td>1976</td>\n",
       "    </tr>\n",
       "    <tr>\n",
       "      <th>2</th>\n",
       "      <td>2</td>\n",
       "      <td>2007-04-01</td>\n",
       "      <td>23997</td>\n",
       "      <td>36692</td>\n",
       "      <td>36692</td>\n",
       "      <td>37867</td>\n",
       "      <td>1099</td>\n",
       "      <td>13867</td>\n",
       "      <td>8092</td>\n",
       "      <td>2038</td>\n",
       "    </tr>\n",
       "    <tr>\n",
       "      <th>3</th>\n",
       "      <td>3</td>\n",
       "      <td>2007-05-01</td>\n",
       "      <td>24159</td>\n",
       "      <td>36940</td>\n",
       "      <td>36940</td>\n",
       "      <td>38178</td>\n",
       "      <td>1101</td>\n",
       "      <td>13963</td>\n",
       "      <td>8125</td>\n",
       "      <td>2071</td>\n",
       "    </tr>\n",
       "    <tr>\n",
       "      <th>4</th>\n",
       "      <td>4</td>\n",
       "      <td>2007-06-01</td>\n",
       "      <td>24252</td>\n",
       "      <td>37098</td>\n",
       "      <td>37098</td>\n",
       "      <td>38362</td>\n",
       "      <td>1102</td>\n",
       "      <td>14024</td>\n",
       "      <td>8148</td>\n",
       "      <td>2080</td>\n",
       "    </tr>\n",
       "  </tbody>\n",
       "</table>\n",
       "</div>"
      ],
      "text/plain": [
       "   Unnamed: 0        date  nterms  nchildren  nparents  nrelations  nobsolete  \\\n",
       "0           0  2007-01-01   22929      33988     33988       35269       1012   \n",
       "1           1  2007-02-01   23533      36092     36092       37195        987   \n",
       "2           2  2007-04-01   23997      36692     36692       37867       1099   \n",
       "3           3  2007-05-01   24159      36940     36940       38178       1101   \n",
       "4           4  2007-06-01   24252      37098     37098       38362       1102   \n",
       "\n",
       "   nbioprocess  nmolfunction  ncelcomp  \n",
       "0        12904          8049      1976  \n",
       "1        13497          8060      1976  \n",
       "2        13867          8092      2038  \n",
       "3        13963          8125      2071  \n",
       "4        14024          8148      2080  "
      ]
     },
     "execution_count": 3,
     "metadata": {},
     "output_type": "execute_result"
    }
   ],
   "source": [
    "df = pd.read_csv(\"summarygo.csv\")\n",
    "df.head()"
   ]
  },
  {
   "cell_type": "code",
   "execution_count": 4,
   "metadata": {
    "collapsed": false
   },
   "outputs": [],
   "source": [
    "df = df.set_index(\"date\")"
   ]
  },
  {
   "cell_type": "code",
   "execution_count": 13,
   "metadata": {
    "collapsed": false
   },
   "outputs": [
    {
     "data": {
      "text/plain": [
       "<matplotlib.axes._subplots.AxesSubplot at 0x11a5a7c88>"
      ]
     },
     "execution_count": 13,
     "metadata": {},
     "output_type": "execute_result"
    },
    {
     "data": {
      "image/png": "[encoded data removed]",
      "text/plain": [
       "<matplotlib.figure.Figure at 0x11a4f4630>"
      ]
     },
     "metadata": {},
     "output_type": "display_data"
    }
   ],
   "source": [
    "%matplotlib inline\n",
    "cols = [\"nterms\", \"nchildren\", \"nrelations\", \"nobsolete\"]\n",
    "df[cols].plot()"
   ]
  },
  {
   "cell_type": "code",
   "execution_count": 12,
   "metadata": {
    "collapsed": false
   },
   "outputs": [
    {
     "data": {
      "text/plain": [
       "<matplotlib.axes._subplots.AxesSubplot at 0x11a6d55c0>"
      ]
     },
     "execution_count": 12,
     "metadata": {},
     "output_type": "execute_result"
    },
    {
     "data": {
      "image/png": "[encoded data removed]",
      "text/plain": [
       "<matplotlib.figure.Figure at 0x11a6dfa20>"
      ]
     },
     "metadata": {},
     "output_type": "display_data"
    }
   ],
   "source": [
    "cols = [\"nbioprocess\", \"nmolfunction\", \"ncelcomp\"]\n",
    "df[cols].plot()"
   ]
  },
  {
   "cell_type": "code",
   "execution_count": 52,
   "metadata": {
    "collapsed": false
   },
   "outputs": [
    {
     "data": {
      "text/html": [
       "<div>\n",
       "<table border=\"1\" class=\"dataframe\">\n",
       "  <thead>\n",
       "    <tr style=\"text-align: right;\">\n",
       "      <th></th>\n",
       "      <th>Unnamed: 0</th>\n",
       "      <th>date</th>\n",
       "      <th>nevidenceIGI</th>\n",
       "      <th>nevidenceRCA</th>\n",
       "      <th>nevidenceIMP</th>\n",
       "      <th>nevidenceNR</th>\n",
       "      <th>nevidenceIPI</th>\n",
       "      <th>nevidenceISS</th>\n",
       "      <th>nevidenceNAS</th>\n",
       "      <th>nevidenceND</th>\n",
       "      <th>nevidenceIDA</th>\n",
       "      <th>nevidenceIC</th>\n",
       "      <th>nevidenceIEP</th>\n",
       "      <th>nevidenceTAS</th>\n",
       "      <th>nevidenceIEA</th>\n",
       "    </tr>\n",
       "  </thead>\n",
       "  <tbody>\n",
       "    <tr>\n",
       "      <th>0</th>\n",
       "      <td>0</td>\n",
       "      <td>2007-01-01</td>\n",
       "      <td>698</td>\n",
       "      <td>7158</td>\n",
       "      <td>5486</td>\n",
       "      <td>124.0</td>\n",
       "      <td>1334</td>\n",
       "      <td>20095</td>\n",
       "      <td>2542</td>\n",
       "      <td>12611</td>\n",
       "      <td>6216</td>\n",
       "      <td>394</td>\n",
       "      <td>371</td>\n",
       "      <td>4516</td>\n",
       "      <td>1125127</td>\n",
       "    </tr>\n",
       "    <tr>\n",
       "      <th>1</th>\n",
       "      <td>1</td>\n",
       "      <td>2007-02-01</td>\n",
       "      <td>710</td>\n",
       "      <td>7904</td>\n",
       "      <td>5432</td>\n",
       "      <td>128.0</td>\n",
       "      <td>1343</td>\n",
       "      <td>20127</td>\n",
       "      <td>2546</td>\n",
       "      <td>12976</td>\n",
       "      <td>6320</td>\n",
       "      <td>432</td>\n",
       "      <td>386</td>\n",
       "      <td>4506</td>\n",
       "      <td>1127014</td>\n",
       "    </tr>\n",
       "    <tr>\n",
       "      <th>2</th>\n",
       "      <td>2</td>\n",
       "      <td>2007-03-01</td>\n",
       "      <td>734</td>\n",
       "      <td>7525</td>\n",
       "      <td>5686</td>\n",
       "      <td>128.0</td>\n",
       "      <td>1507</td>\n",
       "      <td>20180</td>\n",
       "      <td>2565</td>\n",
       "      <td>12762</td>\n",
       "      <td>6462</td>\n",
       "      <td>501</td>\n",
       "      <td>405</td>\n",
       "      <td>4493</td>\n",
       "      <td>1126806</td>\n",
       "    </tr>\n",
       "    <tr>\n",
       "      <th>3</th>\n",
       "      <td>3</td>\n",
       "      <td>2007-04-01</td>\n",
       "      <td>766</td>\n",
       "      <td>7523</td>\n",
       "      <td>5832</td>\n",
       "      <td>126.0</td>\n",
       "      <td>1554</td>\n",
       "      <td>20455</td>\n",
       "      <td>2577</td>\n",
       "      <td>13022</td>\n",
       "      <td>6729</td>\n",
       "      <td>502</td>\n",
       "      <td>418</td>\n",
       "      <td>4492</td>\n",
       "      <td>1142131</td>\n",
       "    </tr>\n",
       "    <tr>\n",
       "      <th>4</th>\n",
       "      <td>4</td>\n",
       "      <td>2007-05-01</td>\n",
       "      <td>778</td>\n",
       "      <td>7498</td>\n",
       "      <td>5904</td>\n",
       "      <td>124.0</td>\n",
       "      <td>1655</td>\n",
       "      <td>20961</td>\n",
       "      <td>2575</td>\n",
       "      <td>13387</td>\n",
       "      <td>6837</td>\n",
       "      <td>503</td>\n",
       "      <td>424</td>\n",
       "      <td>4477</td>\n",
       "      <td>1251755</td>\n",
       "    </tr>\n",
       "  </tbody>\n",
       "</table>\n",
       "</div>"
      ],
      "text/plain": [
       "   Unnamed: 0        date  nevidenceIGI  nevidenceRCA  nevidenceIMP  \\\n",
       "0           0  2007-01-01           698          7158          5486   \n",
       "1           1  2007-02-01           710          7904          5432   \n",
       "2           2  2007-03-01           734          7525          5686   \n",
       "3           3  2007-04-01           766          7523          5832   \n",
       "4           4  2007-05-01           778          7498          5904   \n",
       "\n",
       "   nevidenceNR  nevidenceIPI  nevidenceISS  nevidenceNAS  nevidenceND  \\\n",
       "0        124.0          1334         20095          2542        12611   \n",
       "1        128.0          1343         20127          2546        12976   \n",
       "2        128.0          1507         20180          2565        12762   \n",
       "3        126.0          1554         20455          2577        13022   \n",
       "4        124.0          1655         20961          2575        13387   \n",
       "\n",
       "   nevidenceIDA  nevidenceIC  nevidenceIEP  nevidenceTAS  nevidenceIEA  \n",
       "0          6216          394           371          4516       1125127  \n",
       "1          6320          432           386          4506       1127014  \n",
       "2          6462          501           405          4493       1126806  \n",
       "3          6729          502           418          4492       1142131  \n",
       "4          6837          503           424          4477       1251755  "
      ]
     },
     "execution_count": 52,
     "metadata": {},
     "output_type": "execute_result"
    }
   ],
   "source": [
    "df2 = pd.read_csv(\"summarygoas.csv\")\n",
    "df2.head()"
   ]
  },
  {
   "cell_type": "code",
   "execution_count": 53,
   "metadata": {
    "collapsed": false
   },
   "outputs": [
    {
     "data": {
      "text/html": [
       "<div>\n",
       "<table border=\"1\" class=\"dataframe\">\n",
       "  <thead>\n",
       "    <tr style=\"text-align: right;\">\n",
       "      <th></th>\n",
       "      <th>date</th>\n",
       "      <th>nevidenceIGI</th>\n",
       "      <th>nevidenceRCA</th>\n",
       "      <th>nevidenceIMP</th>\n",
       "      <th>nevidenceNR</th>\n",
       "      <th>nevidenceIPI</th>\n",
       "      <th>nevidenceISS</th>\n",
       "      <th>nevidenceNAS</th>\n",
       "      <th>nevidenceND</th>\n",
       "      <th>nevidenceIDA</th>\n",
       "      <th>nevidenceIC</th>\n",
       "      <th>nevidenceIEP</th>\n",
       "      <th>nevidenceTAS</th>\n",
       "      <th>nevidenceIEA</th>\n",
       "    </tr>\n",
       "  </thead>\n",
       "  <tbody>\n",
       "    <tr>\n",
       "      <th>0</th>\n",
       "      <td>2007-01-01</td>\n",
       "      <td>698</td>\n",
       "      <td>7158</td>\n",
       "      <td>5486</td>\n",
       "      <td>124.0</td>\n",
       "      <td>1334</td>\n",
       "      <td>20095</td>\n",
       "      <td>2542</td>\n",
       "      <td>12611</td>\n",
       "      <td>6216</td>\n",
       "      <td>394</td>\n",
       "      <td>371</td>\n",
       "      <td>4516</td>\n",
       "      <td>1125127</td>\n",
       "    </tr>\n",
       "    <tr>\n",
       "      <th>1</th>\n",
       "      <td>2007-02-01</td>\n",
       "      <td>710</td>\n",
       "      <td>7904</td>\n",
       "      <td>5432</td>\n",
       "      <td>128.0</td>\n",
       "      <td>1343</td>\n",
       "      <td>20127</td>\n",
       "      <td>2546</td>\n",
       "      <td>12976</td>\n",
       "      <td>6320</td>\n",
       "      <td>432</td>\n",
       "      <td>386</td>\n",
       "      <td>4506</td>\n",
       "      <td>1127014</td>\n",
       "    </tr>\n",
       "    <tr>\n",
       "      <th>2</th>\n",
       "      <td>2007-03-01</td>\n",
       "      <td>734</td>\n",
       "      <td>7525</td>\n",
       "      <td>5686</td>\n",
       "      <td>128.0</td>\n",
       "      <td>1507</td>\n",
       "      <td>20180</td>\n",
       "      <td>2565</td>\n",
       "      <td>12762</td>\n",
       "      <td>6462</td>\n",
       "      <td>501</td>\n",
       "      <td>405</td>\n",
       "      <td>4493</td>\n",
       "      <td>1126806</td>\n",
       "    </tr>\n",
       "    <tr>\n",
       "      <th>3</th>\n",
       "      <td>2007-04-01</td>\n",
       "      <td>766</td>\n",
       "      <td>7523</td>\n",
       "      <td>5832</td>\n",
       "      <td>126.0</td>\n",
       "      <td>1554</td>\n",
       "      <td>20455</td>\n",
       "      <td>2577</td>\n",
       "      <td>13022</td>\n",
       "      <td>6729</td>\n",
       "      <td>502</td>\n",
       "      <td>418</td>\n",
       "      <td>4492</td>\n",
       "      <td>1142131</td>\n",
       "    </tr>\n",
       "    <tr>\n",
       "      <th>4</th>\n",
       "      <td>2007-05-01</td>\n",
       "      <td>778</td>\n",
       "      <td>7498</td>\n",
       "      <td>5904</td>\n",
       "      <td>124.0</td>\n",
       "      <td>1655</td>\n",
       "      <td>20961</td>\n",
       "      <td>2575</td>\n",
       "      <td>13387</td>\n",
       "      <td>6837</td>\n",
       "      <td>503</td>\n",
       "      <td>424</td>\n",
       "      <td>4477</td>\n",
       "      <td>1251755</td>\n",
       "    </tr>\n",
       "  </tbody>\n",
       "</table>\n",
       "</div>"
      ],
      "text/plain": [
       "         date  nevidenceIGI  nevidenceRCA  nevidenceIMP  nevidenceNR  \\\n",
       "0  2007-01-01           698          7158          5486        124.0   \n",
       "1  2007-02-01           710          7904          5432        128.0   \n",
       "2  2007-03-01           734          7525          5686        128.0   \n",
       "3  2007-04-01           766          7523          5832        126.0   \n",
       "4  2007-05-01           778          7498          5904        124.0   \n",
       "\n",
       "   nevidenceIPI  nevidenceISS  nevidenceNAS  nevidenceND  nevidenceIDA  \\\n",
       "0          1334         20095          2542        12611          6216   \n",
       "1          1343         20127          2546        12976          6320   \n",
       "2          1507         20180          2565        12762          6462   \n",
       "3          1554         20455          2577        13022          6729   \n",
       "4          1655         20961          2575        13387          6837   \n",
       "\n",
       "   nevidenceIC  nevidenceIEP  nevidenceTAS  nevidenceIEA  \n",
       "0          394           371          4516       1125127  \n",
       "1          432           386          4506       1127014  \n",
       "2          501           405          4493       1126806  \n",
       "3          502           418          4492       1142131  \n",
       "4          503           424          4477       1251755  "
      ]
     },
     "execution_count": 53,
     "metadata": {},
     "output_type": "execute_result"
    }
   ],
   "source": [
    "del df2[\"Unnamed: 0\"]\n",
    "\n",
    "df2.head()"
   ]
  },
  {
   "cell_type": "code",
   "execution_count": 54,
   "metadata": {
    "collapsed": true
   },
   "outputs": [],
   "source": [
    "df2 = df2.set_index(\"date\")"
   ]
  },
  {
   "cell_type": "code",
   "execution_count": 65,
   "metadata": {
    "collapsed": false
   },
   "outputs": [
    {
     "data": {
      "text/plain": [
       "[<matplotlib.text.Text at 0x11ba694a8>,\n",
       " <matplotlib.text.Text at 0x11c445438>,\n",
       " <matplotlib.text.Text at 0x11c505278>,\n",
       " <matplotlib.text.Text at 0x11c505d68>,\n",
       " <matplotlib.text.Text at 0x11c507898>,\n",
       " <matplotlib.text.Text at 0x11c50d3c8>,\n",
       " <matplotlib.text.Text at 0x11c50deb8>,\n",
       " <matplotlib.text.Text at 0x11c5107b8>,\n",
       " <matplotlib.text.Text at 0x11c5142e8>,\n",
       " <matplotlib.text.Text at 0x11c514dd8>]"
      ]
     },
     "execution_count": 65,
     "metadata": {},
     "output_type": "execute_result"
    },
    {
     "data": {
      "image/png": "[encoded data removed]",
      "text/plain": [
       "<matplotlib.figure.Figure at 0x11bf2e550>"
      ]
     },
     "metadata": {},
     "output_type": "display_data"
    }
   ],
   "source": [
    "exp_cols = [\"nevidenceIDA\",\"nevidenceIPI\",\n",
    "            \"nevidenceIMP\",\"nevidenceIGI\",\"nevidenceIEP\"]\n",
    "ax = df2[exp_cols].plot()\n",
    "ax.set_xticklabels(ax.xaxis.get_majorticklabels(), rotation=45)"
   ]
  },
  {
   "cell_type": "code",
   "execution_count": null,
   "metadata": {
    "collapsed": true
   },
   "outputs": [],
   "source": []
  }
 ],
 "metadata": {
  "anaconda-cloud": {},
  "kernelspec": {
   "display_name": "Python [Root]",
   "language": "python",
   "name": "Python [Root]"
  },
  "language_info": {
   "codemirror_mode": {
    "name": "ipython",
    "version": 3
   },
   "file_extension": ".py",
   "mimetype": "text/x-python",
   "name": "python",
   "nbconvert_exporter": "python",
   "pygments_lexer": "ipython3",
   "version": "3.5.2"
  }
 },
 "nbformat": 4,
 "nbformat_minor": 0
}
